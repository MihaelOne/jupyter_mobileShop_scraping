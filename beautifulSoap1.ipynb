{
 "cells": [
  {
   "cell_type": "code",
   "execution_count": 2,
   "id": "2c128fb4",
   "metadata": {},
   "outputs": [],
   "source": [
    "import pandas as pd\n",
    "import requests\n",
    "from bs4 import BeautifulSoup"
   ]
  },
  {
   "cell_type": "code",
   "execution_count": 3,
   "id": "5306db8d",
   "metadata": {},
   "outputs": [],
   "source": [
    "import requests"
   ]
  },
  {
   "cell_type": "code",
   "execution_count": 4,
   "id": "f7267f7e",
   "metadata": {},
   "outputs": [],
   "source": [
    "url = 'https://www.mobileshop.eu/hr/android-os/'"
   ]
  },
  {
   "cell_type": "code",
   "execution_count": 5,
   "id": "77a13ac6",
   "metadata": {},
   "outputs": [],
   "source": [
    "page = requests.get(url)"
   ]
  },
  {
   "cell_type": "code",
   "execution_count": 6,
   "id": "b97b2c67",
   "metadata": {},
   "outputs": [],
   "source": [
    "soup = BeautifulSoup(page.text, 'html.parser')"
   ]
  },
  {
   "cell_type": "code",
   "execution_count": 7,
   "id": "cf6460f9",
   "metadata": {},
   "outputs": [],
   "source": [
    "# Pronalaženje svih slika na stranici\n",
    "images = soup.find_all('img')"
   ]
  },
  {
   "cell_type": "code",
   "execution_count": 8,
   "id": "657d2ec1",
   "metadata": {},
   "outputs": [],
   "source": [
    "# Brisanje svih slika iz HTML-a\n",
    "for image in images:\n",
    "    image.extract()"
   ]
  },
  {
   "cell_type": "code",
   "execution_count": 9,
   "id": "842ffb48",
   "metadata": {
    "scrolled": false
   },
   "outputs": [],
   "source": [
    "base_url = 'https://www.mobileshop.eu/hr/android-os/'\n",
    "\n",
    "# Lista za čuvanje svih uređaja\n",
    "all_devices = []\n",
    "\n",
    "# Broj stranica sa uređajima koje treba pretražiti\n",
    "num_pages = 5\n",
    "\n",
    "for page in range(1, num_pages + 1):\n",
    "    url = f'{base_url}?page={page}'  # Formiranje URL adrese sa brojem stranice\n",
    "    \n",
    "\n",
    "    # Preuzimanje HTML sadržaja stranice\n",
    "    page = requests.get(url)\n",
    "    soup = BeautifulSoup(page.content, 'html.parser')\n",
    "\n",
    "    # Pronalaženje svih div-ova sa klasom 'product-module' koji sadrže informacije o proizvodima\n",
    "    product_divs = soup.find_all('div', class_='product-module')\n",
    "\n",
    "    for product_div in product_divs:\n",
    "        # Izvlačenje naziva uređaja\n",
    "        product_name_element = product_div.find('div', class_='product-name').h5.a\n",
    "        if product_name_element:\n",
    "            product_name = product_name_element.text.strip()\n",
    "        else:\n",
    "            product_name = \"N/A\"\n",
    "\n",
    "        # Izvlačenje cene uređaja\n",
    "        price_element = product_div.find('div', class_='price').div\n",
    "        if price_element:\n",
    "            price = price_element.text.strip()\n",
    "        else:\n",
    "            price = \"N/A\"\n",
    "\n",
    "        # Dodavanje uređaja u listu all_devices\n",
    "        all_devices.append({\n",
    "            'Naziv uređaja': product_name,\n",
    "            'Cena': price\n",
    "        })\n",
    "\n"
   ]
  },
  {
   "cell_type": "code",
   "execution_count": 10,
   "id": "7282ec67",
   "metadata": {
    "scrolled": true
   },
   "outputs": [
    {
     "name": "stdout",
     "output_type": "stream",
     "text": [
      "\n",
      "Podaci su sačuvani u Excel fajl: devices.xlsx\n",
      "Podaci su sačuvani u CSV fajl: devices.csv\n"
     ]
    }
   ],
   "source": [
    "import pandas as pd\n",
    "import requests\n",
    "from bs4 import BeautifulSoup\n",
    "\n",
    "# URL adresa web shopa sa uređajima\n",
    "base_url = 'https://www.mobileshop.eu/hr/android-os/'\n",
    "\n",
    "# Lista za čuvanje svih uređaja\n",
    "all_devices = []\n",
    "\n",
    "# Broj stranica sa uređajima koje treba pretražiti\n",
    "num_pages = 5\n",
    "\n",
    "for page in range(1, num_pages + 1):\n",
    "    url = f'{base_url}?page={page}'  # Formiranje URL adrese sa brojem stranice\n",
    "\n",
    "    # Preuzimanje HTML sadržaja stranice\n",
    "    page = requests.get(url)\n",
    "    soup = BeautifulSoup(page.content, 'html.parser')\n",
    "\n",
    "    # Pronalaženje svih div-ova sa klasom 'product-module' koji sadrže informacije o proizvodima\n",
    "    product_divs = soup.find_all('div', class_='product-module')\n",
    "\n",
    "    for product_div in product_divs:\n",
    "        # Izvlačenje naziva uređaja\n",
    "        product_name_element = product_div.find('div', class_='product-name').h5.a\n",
    "        if product_name_element:\n",
    "            product_name = product_name_element.text.strip()\n",
    "        else:\n",
    "            product_name = \"N/A\"\n",
    "\n",
    "        # Izvlačenje cene uređaja\n",
    "        price_element = product_div.find('div', class_='price').div\n",
    "        if price_element:\n",
    "            price = price_element.text.strip()\n",
    "        else:\n",
    "            price = \"N/A\"\n",
    "\n",
    "        # Dodavanje uređaja u listu all_devices\n",
    "        all_devices.append({\n",
    "            'Naziv uređaja': product_name,\n",
    "            'Cena': price\n",
    "        })\n",
    "\n",
    "# Konvertovanje liste rečnika u pandas DataFrame\n",
    "df = pd.DataFrame(all_devices)\n",
    "\n",
    "# Ispisivanje tabele\n",
    "# print(\"Podaci:\")\n",
    "# print(df)\n",
    "\n",
    "# Čuvanje u Excel (.xlsx) formatu\n",
    "excel_file = 'devices.xlsx'\n",
    "df.to_excel(excel_file, index=False)\n",
    "print(f\"\\nPodaci su sačuvani u Excel fajl: {excel_file}\")\n",
    "\n",
    "# Čuvanje u CSV formatu\n",
    "csv_file = 'devices.csv'\n",
    "df.to_csv(csv_file, index=False)\n",
    "print(f\"Podaci su sačuvani u CSV fajl: {csv_file}\")\n"
   ]
  },
  {
   "cell_type": "code",
   "execution_count": 10,
   "id": "bd0f7625",
   "metadata": {},
   "outputs": [],
   "source": [
    "\n",
    " for script in soup([\"script\", \"style\"]):\n",
    "        script.decompose()"
   ]
  },
  {
   "cell_type": "code",
   "execution_count": 14,
   "id": "4c4b0247",
   "metadata": {},
   "outputs": [
    {
     "name": "stdout",
     "output_type": "stream",
     "text": [
      "Mapa sajta nije pronađena na: https://www.mobileshop.eu/sitemap1.xml\n"
     ]
    }
   ],
   "source": [
    "import requests\n",
    "\n",
    "# URL sajta\n",
    "site_url = 'https://www.mobileshop.eu'\n",
    "\n",
    "# Provera standardne lokacije za sitemap.xml\n",
    "sitemap_url = f'{site_url}/sitemap1.xml'\n",
    "response = requests.get(sitemap_url)\n",
    "\n",
    "if response.status_code == 200:\n",
    "    print(f\"Mapa sajta je pronađena na: {sitemap_url}\")\n",
    "    with open('sitemap.xml', 'wb') as file:\n",
    "        file.write(response.content)\n",
    "else:\n",
    "    print(f\"Mapa sajta nije pronađena na: {sitemap_url}\")"
   ]
  },
  {
   "cell_type": "code",
   "execution_count": 15,
   "id": "12ff3521",
   "metadata": {},
   "outputs": [
    {
     "name": "stdout",
     "output_type": "stream",
     "text": [
      "Mapa sajta je preuzeta i sačuvana kao sitemap.xml\n"
     ]
    }
   ],
   "source": [
    "import requests\n",
    "import xml.etree.ElementTree as ET\n",
    "\n",
    "# URL mape sajta\n",
    "sitemap_url = 'https://www.mobis.hr/sitemap1.xml'\n",
    "response = requests.get(sitemap_url)\n",
    "\n",
    "if response.status_code == 200:\n",
    "    with open('sitemap.xml', 'wb') as file:\n",
    "        file.write(response.content)\n",
    "    print(f\"Mapa sajta je preuzeta i sačuvana kao sitemap.xml\")\n",
    "else:\n",
    "    print(f\"Mapa sajta nije preuzeta. Status kod: {response.status_code}\")\n"
   ]
  },
  {
   "cell_type": "code",
   "execution_count": null,
   "id": "a5217b12",
   "metadata": {},
   "outputs": [
    {
     "name": "stdout",
     "output_type": "stream",
     "text": [
      "Nevalidan URL: https://www.mobis.hr/proizvodi/dodatna-oprema/xlayer/ sa status kodom: 404\n"
     ]
    }
   ],
   "source": [
    "# Parsiranje mape sajta\n",
    "tree = ET.parse('sitemap.xml')\n",
    "root = tree.getroot()\n",
    "\n",
    "# Dobijanje svih URL-ova iz mape sajta\n",
    "namespace = {'ns': 'http://www.sitemaps.org/schemas/sitemap/0.9'}\n",
    "urls = [element.text for element in root.findall('ns:url/ns:loc', namespace)]\n",
    "\n",
    "# Provera validnosti URL-ova\n",
    "valid_urls = []\n",
    "\n",
    "for url in urls:\n",
    "    response = requests.get(url)\n",
    "    if response.status_code == 200:\n",
    "        valid_urls.append(url)\n",
    "    else:\n",
    "        print(f\"Nevalidan URL: {url} sa status kodom: {response.status_code}\")\n",
    "\n",
    "print(f\"Broj validnih URL-ova: {len(valid_urls)}\")\n"
   ]
  },
  {
   "cell_type": "code",
   "execution_count": null,
   "id": "02dfb44d",
   "metadata": {},
   "outputs": [],
   "source": [
    "# Kreiranje XML strukture za novu mapu sajta\n",
    "urlset = ET.Element('urlset', xmlns=\"http://www.sitemaps.org/schemas/sitemap/0.9\")\n",
    "\n",
    "for page_url in valid_urls:\n",
    "    url_element = ET.SubElement(urlset, 'url')\n",
    "    loc_element = ET.SubElement(url_element, 'loc')\n",
    "    loc_element.text = page_url\n",
    "\n",
    "# Pisanje nove mape sajta u XML fajl\n",
    "new_sitemap_file = 'new_sitemap.xml'\n",
    "tree = ET.ElementTree(urlset)\n",
    "tree.write(new_sitemap_file, encoding='utf-8', xml_declaration=True)\n",
    "\n",
    "print(f\"\\nNova mapa sajta je sačuvana u fajl: {new_sitemap_file}\")\n"
   ]
  },
  {
   "cell_type": "code",
   "execution_count": null,
   "id": "d1c31cb9",
   "metadata": {},
   "outputs": [],
   "source": []
  }
 ],
 "metadata": {
  "kernelspec": {
   "display_name": "Python 3 (ipykernel)",
   "language": "python",
   "name": "python3"
  },
  "language_info": {
   "codemirror_mode": {
    "name": "ipython",
    "version": 3
   },
   "file_extension": ".py",
   "mimetype": "text/x-python",
   "name": "python",
   "nbconvert_exporter": "python",
   "pygments_lexer": "ipython3",
   "version": "3.9.12"
  }
 },
 "nbformat": 4,
 "nbformat_minor": 5
}
